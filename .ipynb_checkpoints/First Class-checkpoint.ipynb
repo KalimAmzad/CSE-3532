{
 "cells": [
  {
   "cell_type": "markdown",
   "metadata": {},
   "source": [
    "# Data Type"
   ]
  },
  {
   "cell_type": "code",
   "execution_count": null,
   "metadata": {},
   "outputs": [],
   "source": [
    "#include <stdio.h>\n",
    "int main()\n",
    "{\n",
    "    int a;\n",
    "    float b, c;\n",
    "    a = 10;\n",
    "    b = 5.5;\n",
    "    c = a+b;\n",
    "    printf(\"%f\", c);\n",
    "    \n",
    "    return 0;\n",
    "    \n",
    "}"
   ]
  },
  {
   "cell_type": "code",
   "execution_count": 16,
   "metadata": {},
   "outputs": [
    {
     "name": "stdout",
     "output_type": "stream",
     "text": [
      "15\n"
     ]
    }
   ],
   "source": [
    "a = 10\n",
    "b = 5.5\n",
    "c = int(a+b)\n",
    "d = 'cse-3532'\n",
    "e = True\n",
    "print(c)"
   ]
  },
  {
   "cell_type": "code",
   "execution_count": 17,
   "metadata": {},
   "outputs": [
    {
     "data": {
      "text/plain": [
       "(int, float, int, str, bool)"
      ]
     },
     "execution_count": 17,
     "metadata": {},
     "output_type": "execute_result"
    }
   ],
   "source": [
    "type(a), type(b), type(c), type(d), type(e)"
   ]
  },
  {
   "cell_type": "code",
   "execution_count": 14,
   "metadata": {},
   "outputs": [
    {
     "data": {
      "text/plain": [
       "(10, 5.5, 15)"
      ]
     },
     "execution_count": 14,
     "metadata": {},
     "output_type": "execute_result"
    }
   ],
   "source": [
    "a, b, c"
   ]
  },
  {
   "cell_type": "code",
   "execution_count": 23,
   "metadata": {},
   "outputs": [
    {
     "data": {
      "text/plain": [
       "True"
      ]
     },
     "execution_count": 23,
     "metadata": {},
     "output_type": "execute_result"
    }
   ],
   "source": [
    "isinstance(d, (int, str))"
   ]
  },
  {
   "cell_type": "code",
   "execution_count": 24,
   "metadata": {},
   "outputs": [
    {
     "data": {
      "text/plain": [
       "('5.5', str)"
      ]
     },
     "execution_count": 24,
     "metadata": {},
     "output_type": "execute_result"
    }
   ],
   "source": [
    "c = str(5.5)\n",
    "c, type(c)"
   ]
  },
  {
   "cell_type": "code",
   "execution_count": 27,
   "metadata": {},
   "outputs": [
    {
     "data": {
      "text/plain": [
       "8.0"
      ]
     },
     "execution_count": 27,
     "metadata": {},
     "output_type": "execute_result"
    }
   ],
   "source": [
    "result = float(c) + 2.5\n",
    "result"
   ]
  },
  {
   "cell_type": "code",
   "execution_count": 34,
   "metadata": {},
   "outputs": [
    {
     "data": {
      "text/plain": [
       "True"
      ]
     },
     "execution_count": 34,
     "metadata": {},
     "output_type": "execute_result"
    }
   ],
   "source": [
    "bool([1, 5, 9])"
   ]
  },
  {
   "cell_type": "markdown",
   "metadata": {},
   "source": [
    "# List"
   ]
  },
  {
   "cell_type": "code",
   "execution_count": 47,
   "metadata": {},
   "outputs": [
    {
     "data": {
      "text/plain": [
       "([], list)"
      ]
     },
     "execution_count": 47,
     "metadata": {},
     "output_type": "execute_result"
    }
   ],
   "source": [
    "# Let's leran python list\n",
    "# and sompe implications\n",
    "personal_shopping = [] # empty list\n",
    "\n",
    "personal_shopping, type(personal_shopping)"
   ]
  },
  {
   "cell_type": "code",
   "execution_count": 48,
   "metadata": {},
   "outputs": [
    {
     "data": {
      "text/plain": [
       "['Chair', 'Table', 'Busket', 'Headphone', 'teabag', 'coffee']"
      ]
     },
     "execution_count": 48,
     "metadata": {},
     "output_type": "execute_result"
    }
   ],
   "source": [
    "office_shopping = ['Chair', 'Table', 'Busket', 'Headphone', 'teabag', 'coffee']\n",
    "office_shopping"
   ]
  },
  {
   "cell_type": "code",
   "execution_count": 49,
   "metadata": {},
   "outputs": [
    {
     "data": {
      "text/plain": [
       "6"
      ]
     },
     "execution_count": 49,
     "metadata": {},
     "output_type": "execute_result"
    }
   ],
   "source": [
    "len(office_shopping)"
   ]
  },
  {
   "cell_type": "code",
   "execution_count": 50,
   "metadata": {},
   "outputs": [
    {
     "data": {
      "text/plain": [
       "['Chair',\n",
       " 'Table',\n",
       " 'Busket',\n",
       " 'Headphone',\n",
       " 'teabag',\n",
       " 'coffee',\n",
       " 'camera',\n",
       " 'printer']"
      ]
     },
     "execution_count": 50,
     "metadata": {},
     "output_type": "execute_result"
    }
   ],
   "source": [
    "office_shopping.append('camera')\n",
    "office_shopping.append('printer')\n",
    "office_shopping"
   ]
  },
  {
   "cell_type": "code",
   "execution_count": 51,
   "metadata": {},
   "outputs": [
    {
     "data": {
      "text/plain": [
       "['pen', 'books', 'paper']"
      ]
     },
     "execution_count": 51,
     "metadata": {},
     "output_type": "execute_result"
    }
   ],
   "source": [
    "personal_shopping.append('pen')\n",
    "personal_shopping.append('books')\n",
    "personal_shopping.append('paper')\n",
    "personal_shopping"
   ]
  },
  {
   "cell_type": "markdown",
   "metadata": {},
   "source": [
    "### extend -> can add multiple item at a time, extend by a list"
   ]
  },
  {
   "cell_type": "code",
   "execution_count": 52,
   "metadata": {
    "collapsed": true
   },
   "outputs": [
    {
     "data": {
      "text/plain": [
       "['Chair',\n",
       " 'Table',\n",
       " 'Busket',\n",
       " 'Headphone',\n",
       " 'teabag',\n",
       " 'coffee',\n",
       " 'camera',\n",
       " 'printer',\n",
       " 'flower',\n",
       " 'glass',\n",
       " 'clock']"
      ]
     },
     "execution_count": 52,
     "metadata": {},
     "output_type": "execute_result"
    }
   ],
   "source": [
    "office_shopping.extend(['flower', 'glass', 'clock'])\n",
    "office_shopping"
   ]
  },
  {
   "cell_type": "code",
   "execution_count": 53,
   "metadata": {},
   "outputs": [],
   "source": [
    "office_shopping.extend(personal_shopping)"
   ]
  },
  {
   "cell_type": "code",
   "execution_count": 54,
   "metadata": {
    "collapsed": true
   },
   "outputs": [
    {
     "data": {
      "text/plain": [
       "['Chair',\n",
       " 'Table',\n",
       " 'Busket',\n",
       " 'Headphone',\n",
       " 'teabag',\n",
       " 'coffee',\n",
       " 'camera',\n",
       " 'printer',\n",
       " 'flower',\n",
       " 'glass',\n",
       " 'clock',\n",
       " 'pen',\n",
       " 'books',\n",
       " 'paper']"
      ]
     },
     "execution_count": 54,
     "metadata": {},
     "output_type": "execute_result"
    }
   ],
   "source": [
    "office_shopping"
   ]
  },
  {
   "cell_type": "markdown",
   "metadata": {},
   "source": [
    "### list could be mixture of different data types"
   ]
  },
  {
   "cell_type": "code",
   "execution_count": 55,
   "metadata": {
    "collapsed": true
   },
   "outputs": [
    {
     "data": {
      "text/plain": [
       "['Chair',\n",
       " 'Table',\n",
       " 'Busket',\n",
       " 'Headphone',\n",
       " 'teabag',\n",
       " 'coffee',\n",
       " 'camera',\n",
       " 'printer',\n",
       " 'flower',\n",
       " 'glass',\n",
       " 'clock',\n",
       " 'pen',\n",
       " 'books',\n",
       " 'paper',\n",
       " 10000,\n",
       " 5.5]"
      ]
     },
     "execution_count": 55,
     "metadata": {},
     "output_type": "execute_result"
    }
   ],
   "source": [
    "office_shopping.extend([10000, 5.5])\n",
    "office_shopping"
   ]
  },
  {
   "cell_type": "code",
   "execution_count": 56,
   "metadata": {
    "collapsed": true
   },
   "outputs": [
    {
     "data": {
      "text/plain": [
       "['100 water bottle',\n",
       " 'Chair',\n",
       " 'Table',\n",
       " 'Busket',\n",
       " 'Headphone',\n",
       " 'teabag',\n",
       " 'coffee',\n",
       " 'camera',\n",
       " 'printer',\n",
       " 'flower',\n",
       " 'glass',\n",
       " 'clock',\n",
       " 'pen',\n",
       " 'books',\n",
       " 'paper',\n",
       " 10000,\n",
       " 5.5]"
      ]
     },
     "execution_count": 56,
     "metadata": {},
     "output_type": "execute_result"
    }
   ],
   "source": [
    "office_shopping.insert(0, '100 water bottle')\n",
    "office_shopping"
   ]
  },
  {
   "cell_type": "code",
   "execution_count": 103,
   "metadata": {},
   "outputs": [
    {
     "data": {
      "text/plain": [
       "'Busket'"
      ]
     },
     "execution_count": 103,
     "metadata": {},
     "output_type": "execute_result"
    }
   ],
   "source": [
    "office_shopping.pop()\n",
    "office_shopping.pop()\n",
    "office_shopping.pop()\n",
    "office_shopping.pop()\n",
    "office_shopping.pop()\n",
    "office_shopping.pop()"
   ]
  },
  {
   "cell_type": "code",
   "execution_count": 106,
   "metadata": {},
   "outputs": [
    {
     "data": {
      "text/plain": [
       "[['Chair', 'Table'],\n",
       " ['pen', 'books', 'paper'],\n",
       " ['contact x', 'take a cng', 'go to gec']]"
      ]
     },
     "execution_count": 106,
     "metadata": {},
     "output_type": "execute_result"
    }
   ],
   "source": [
    "# list inside list? -> nested list\n",
    "instruction = ['contact x', 'take a cng', 'go to gec']\n",
    "shopping = [office_shopping, personal_shopping, instruction]\n",
    "shopping"
   ]
  },
  {
   "cell_type": "code",
   "execution_count": 117,
   "metadata": {},
   "outputs": [
    {
     "data": {
      "text/plain": [
       "'contact x'"
      ]
     },
     "execution_count": 117,
     "metadata": {},
     "output_type": "execute_result"
    }
   ],
   "source": [
    "shopping[2][0]"
   ]
  },
  {
   "cell_type": "code",
   "execution_count": 107,
   "metadata": {},
   "outputs": [
    {
     "data": {
      "text/plain": [
       "3"
      ]
     },
     "execution_count": 107,
     "metadata": {},
     "output_type": "execute_result"
    }
   ],
   "source": [
    "len(shopping)"
   ]
  },
  {
   "cell_type": "code",
   "execution_count": 109,
   "metadata": {},
   "outputs": [],
   "source": [
    "reading_books = ['productive muslim', 'reclaims your heart', 'rich dad, poor dad']"
   ]
  },
  {
   "cell_type": "code",
   "execution_count": 114,
   "metadata": {},
   "outputs": [
    {
     "data": {
      "text/plain": [
       "[[['Chair', 'Table'],\n",
       "  ['pen', 'books', 'paper'],\n",
       "  ['contact x', 'take a cng', 'go to gec']],\n",
       " 'client meeting',\n",
       " 'visit xyz',\n",
       " ['productive muslim', 'reclaims your heart', 'rich dad, poor dad']]"
      ]
     },
     "execution_count": 114,
     "metadata": {},
     "output_type": "execute_result"
    }
   ],
   "source": [
    "daily_task = [shopping, \"client meeting\", \"visit xyz\", ['productive muslim', 'reclaims your heart', 'rich dad, poor dad']]\n",
    "daily_task"
   ]
  },
  {
   "cell_type": "code",
   "execution_count": 122,
   "metadata": {},
   "outputs": [
    {
     "data": {
      "text/plain": [
       "'Table'"
      ]
     },
     "execution_count": 122,
     "metadata": {},
     "output_type": "execute_result"
    }
   ],
   "source": [
    "daily_task[0][0][-1]"
   ]
  },
  {
   "cell_type": "markdown",
   "metadata": {},
   "source": [
    "### list value remove/delete by pop, remove or del"
   ]
  },
  {
   "cell_type": "code",
   "execution_count": 57,
   "metadata": {
    "collapsed": true
   },
   "outputs": [
    {
     "data": {
      "text/plain": [
       "['100 water bottle',\n",
       " 'Chair',\n",
       " 'Table',\n",
       " 'Busket',\n",
       " 'teabag',\n",
       " 'coffee',\n",
       " 'camera',\n",
       " 'printer',\n",
       " 'flower',\n",
       " 'glass',\n",
       " 'clock',\n",
       " 'pen',\n",
       " 'books',\n",
       " 'paper',\n",
       " 10000,\n",
       " 5.5]"
      ]
     },
     "execution_count": 57,
     "metadata": {},
     "output_type": "execute_result"
    }
   ],
   "source": [
    "office_shopping.remove('Headphone')\n",
    "office_shopping"
   ]
  },
  {
   "cell_type": "code",
   "execution_count": 60,
   "metadata": {},
   "outputs": [
    {
     "data": {
      "text/plain": [
       "'paper'"
      ]
     },
     "execution_count": 60,
     "metadata": {},
     "output_type": "execute_result"
    }
   ],
   "source": [
    "office_shopping.pop()"
   ]
  },
  {
   "cell_type": "code",
   "execution_count": 61,
   "metadata": {
    "collapsed": true
   },
   "outputs": [
    {
     "data": {
      "text/plain": [
       "['100 water bottle',\n",
       " 'Chair',\n",
       " 'Table',\n",
       " 'Busket',\n",
       " 'teabag',\n",
       " 'coffee',\n",
       " 'camera',\n",
       " 'printer',\n",
       " 'flower',\n",
       " 'glass',\n",
       " 'clock',\n",
       " 'pen',\n",
       " 'books']"
      ]
     },
     "execution_count": 61,
     "metadata": {},
     "output_type": "execute_result"
    }
   ],
   "source": [
    "office_shopping"
   ]
  },
  {
   "cell_type": "code",
   "execution_count": 62,
   "metadata": {},
   "outputs": [
    {
     "data": {
      "text/plain": [
       "'100 water bottle'"
      ]
     },
     "execution_count": 62,
     "metadata": {},
     "output_type": "execute_result"
    }
   ],
   "source": [
    "office_shopping.pop(0)"
   ]
  },
  {
   "cell_type": "code",
   "execution_count": 63,
   "metadata": {},
   "outputs": [
    {
     "data": {
      "text/plain": [
       "['Chair',\n",
       " 'Table',\n",
       " 'Busket',\n",
       " 'teabag',\n",
       " 'coffee',\n",
       " 'camera',\n",
       " 'printer',\n",
       " 'flower',\n",
       " 'glass',\n",
       " 'clock',\n",
       " 'pen',\n",
       " 'books']"
      ]
     },
     "execution_count": 63,
     "metadata": {},
     "output_type": "execute_result"
    }
   ],
   "source": [
    "office_shopping"
   ]
  },
  {
   "cell_type": "code",
   "execution_count": 65,
   "metadata": {},
   "outputs": [
    {
     "data": {
      "text/plain": [
       "7"
      ]
     },
     "execution_count": 65,
     "metadata": {},
     "output_type": "execute_result"
    }
   ],
   "source": [
    "flower_idx = office_shopping.index('flower')\n",
    "flower_idx"
   ]
  },
  {
   "cell_type": "code",
   "execution_count": 66,
   "metadata": {},
   "outputs": [],
   "source": [
    "del office_shopping[office_shopping.index('flower')]"
   ]
  },
  {
   "cell_type": "code",
   "execution_count": 68,
   "metadata": {},
   "outputs": [
    {
     "data": {
      "text/plain": [
       "['Chair',\n",
       " 'Table',\n",
       " 'Busket',\n",
       " 'teabag',\n",
       " 'coffee',\n",
       " 'camera',\n",
       " 'printer',\n",
       " 'glass',\n",
       " 'clock',\n",
       " 'pen',\n",
       " 'books']"
      ]
     },
     "execution_count": 68,
     "metadata": {},
     "output_type": "execute_result"
    }
   ],
   "source": [
    "office_shopping"
   ]
  },
  {
   "cell_type": "code",
   "execution_count": 70,
   "metadata": {},
   "outputs": [
    {
     "data": {
      "text/plain": [
       "['Chair',\n",
       " 'Table',\n",
       " 'Busket',\n",
       " 'teabag',\n",
       " 'coffee',\n",
       " 'camera',\n",
       " 'printer',\n",
       " 'glass',\n",
       " 'clock',\n",
       " 'pen',\n",
       " 'books',\n",
       " 'coffee']"
      ]
     },
     "execution_count": 70,
     "metadata": {},
     "output_type": "execute_result"
    }
   ],
   "source": [
    "office_shopping.append('coffee')\n",
    "office_shopping"
   ]
  },
  {
   "cell_type": "code",
   "execution_count": 72,
   "metadata": {},
   "outputs": [
    {
     "data": {
      "text/plain": [
       "700"
      ]
     },
     "execution_count": 72,
     "metadata": {},
     "output_type": "execute_result"
    }
   ],
   "source": [
    "office_shopping.count('coffee') * 350"
   ]
  },
  {
   "cell_type": "markdown",
   "metadata": {},
   "source": [
    "### list value accessing"
   ]
  },
  {
   "cell_type": "code",
   "execution_count": 93,
   "metadata": {},
   "outputs": [
    {
     "name": "stdout",
     "output_type": "stream",
     "text": [
      "camera\n",
      "coffee\n",
      "['teabag', 'camera', 'glass', 'pen', 'coffee']\n"
     ]
    }
   ],
   "source": [
    "# single value access\n",
    "print(office_shopping[5]) # single value access\n",
    "print(office_shopping[-1]) # reverse indexing\n",
    "\n",
    "# range accessing\n",
    "start_idx = 2\n",
    "end_idx = -1\n",
    "step = 2\n",
    "print(office_shopping[3::step])"
   ]
  },
  {
   "cell_type": "code",
   "execution_count": 85,
   "metadata": {},
   "outputs": [
    {
     "data": {
      "text/plain": [
       "['Chair',\n",
       " 'Table',\n",
       " 'Busket',\n",
       " 'teabag',\n",
       " 'coffee',\n",
       " 'camera',\n",
       " 'printer',\n",
       " 'glass',\n",
       " 'clock',\n",
       " 'pen',\n",
       " 'books',\n",
       " 'coffee']"
      ]
     },
     "execution_count": 85,
     "metadata": {},
     "output_type": "execute_result"
    }
   ],
   "source": [
    "office_shopping"
   ]
  },
  {
   "cell_type": "code",
   "execution_count": null,
   "metadata": {},
   "outputs": [],
   "source": []
  }
 ],
 "metadata": {
  "kernelspec": {
   "display_name": "Python 3",
   "language": "python",
   "name": "python3"
  },
  "language_info": {
   "codemirror_mode": {
    "name": "ipython",
    "version": 3
   },
   "file_extension": ".py",
   "mimetype": "text/x-python",
   "name": "python",
   "nbconvert_exporter": "python",
   "pygments_lexer": "ipython3",
   "version": "3.8.5"
  }
 },
 "nbformat": 4,
 "nbformat_minor": 4
}
